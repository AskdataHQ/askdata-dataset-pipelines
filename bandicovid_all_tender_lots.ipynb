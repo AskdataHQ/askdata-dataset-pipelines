{
  "nbformat": 4,
  "nbformat_minor": 0,
  "metadata": {
    "colab": {
      "name": "bandicovid\\all_tender_lots.ipynb",
      "provenance": [],
      "authorship_tag": "ABX9TyNYxkYFpzdvzCu7SU8bRRA/",
      "include_colab_link": true
    },
    "kernelspec": {
      "name": "python3",
      "display_name": "Python 3"
    }
  },
  "cells": [
    {
      "cell_type": "markdown",
      "metadata": {
        "id": "view-in-github",
        "colab_type": "text"
      },
      "source": [
        "<a href=\"https://colab.research.google.com/github/AskdataHQ/askdata-dataset-pipelines/blob/main/bandicovid_all_tender_lots.ipynb\" target=\"_parent\"><img src=\"https://colab.research.google.com/assets/colab-badge.svg\" alt=\"Open In Colab\"/></a>"
      ]
    },
    {
      "cell_type": "code",
      "metadata": {
        "id": "t613j_MA-Ck8"
      },
      "source": [
        "import pandas as pd"
      ],
      "execution_count": null,
      "outputs": []
    },
    {
      "cell_type": "code",
      "metadata": {
        "id": "lllu9KqT-UF-"
      },
      "source": [
        "df = pd.read_csv('https://metabase.openpolis.io/api/public/card/a80be801-105a-40d0-938e-1c0af99ea8e3/query/csv?parameters=') "
      ],
      "execution_count": 5,
      "outputs": []
    },
    {
      "cell_type": "code",
      "metadata": {
        "id": "zOe9qZm6-gKG"
      },
      "source": [
        "df"
      ],
      "execution_count": null,
      "outputs": []
    }
  ]
}